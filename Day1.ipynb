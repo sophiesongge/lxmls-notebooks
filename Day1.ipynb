{
 "cells": [
  {
   "cell_type": "code",
   "execution_count": null,
   "metadata": {
    "collapsed": true
   },
   "outputs": [],
   "source": [
    "%matplotlib inline\n",
    "%load_ext autoreload\n",
    "%autoreload 2\n",
    "\n",
    "import sys\n",
    "# We will use this append to ensure we can import lxmls toolkit\n",
    "sys.path.append('../lxmls-toolkit')"
   ]
  },
  {
   "cell_type": "code",
   "execution_count": 2,
   "metadata": {
    "collapsed": false
   },
   "outputs": [
    {
     "name": "stdout",
     "output_type": "stream",
     "text": [
      "2000\n",
      "1600\n",
      "x.shape:  (1600, 13989)\n",
      "y.shape:  (1600, 1)\n",
      "Multinomial Naive Bayes Amazon Sentiment Accuracy train: 0.980625 test: 0.627500\n"
     ]
    },
    {
     "name": "stderr",
     "output_type": "stream",
     "text": [
      "/Users/Sophie/Documents/workspace/lxmls-toolkit/lxmls/classifiers/multinomial_naive_bayes.py:68: RuntimeWarning: divide by zero encountered in log\n",
      "  params[1:, i] = np.nan_to_num(np.log(likelihood[:, i]))\n"
     ]
    }
   ],
   "source": [
    "import lxmls.readers.sentiment_reader as srs\n",
    "#import lxmls.classifiers.naive_bayes as nb\n",
    "scr = srs.SentimentCorpus(\"books\")\n",
    "\n",
    "import lxmls.classifiers.multinomial_naive_bayes as mnbb\n",
    "\n",
    "mnb = mnbb.MultinomialNaiveBayes()\n",
    "params_nb_sc = mnb.train(scr.train_X,scr.train_y)\n",
    "y_pred_train = mnb.test(scr.train_X,params_nb_sc)\n",
    "acc_train = mnb.evaluate(scr.train_y, y_pred_train)\n",
    "y_pred_test = mnb.test(scr.test_X,params_nb_sc)\n",
    "acc_test = mnb.evaluate(scr.test_y, y_pred_test)\n",
    "print (\"Multinomial Naive Bayes Amazon Sentiment Accuracy train: %f test: %f\"%(acc_train, acc_test))"
   ]
  },
  {
   "cell_type": "code",
   "execution_count": 3,
   "metadata": {
    "collapsed": false
   },
   "outputs": [
    {
     "name": "stderr",
     "output_type": "stream",
     "text": [
      "/Users/Sophie/Documents/workspace/lxmls-toolkit/lxmls/readers/simple_data_set.py:18: VisibleDeprecationWarning: using a non-integer number instead of an integer will result in an error in the future\n",
      "  X_pos_1 = np.random.normal(g1[0][0], g1[1], [nr_positive, 1])\n",
      "/Users/Sophie/Documents/workspace/lxmls-toolkit/lxmls/readers/simple_data_set.py:19: VisibleDeprecationWarning: using a non-integer number instead of an integer will result in an error in the future\n",
      "  X_pos_2 = np.random.normal(g1[0][1], g1[1], [nr_positive, 1])\n",
      "/Users/Sophie/Documents/workspace/lxmls-toolkit/lxmls/readers/simple_data_set.py:21: VisibleDeprecationWarning: using a non-integer number instead of an integer will result in an error in the future\n",
      "  X_neg_1 = np.random.normal(g2[0][0], g2[1], [nr_negative, 1])\n",
      "/Users/Sophie/Documents/workspace/lxmls-toolkit/lxmls/readers/simple_data_set.py:22: VisibleDeprecationWarning: using a non-integer number instead of an integer will result in an error in the future\n",
      "  X_neg_2 = np.random.normal(g2[0][1], g2[1], [nr_negative, 1])\n",
      "/Users/Sophie/Documents/workspace/lxmls-toolkit/lxmls/readers/simple_data_set.py:24: VisibleDeprecationWarning: using a non-integer number instead of an integer will result in an error in the future\n",
      "  y_pos = np.zeros([nr_positive, 1], dtype=np.int)\n",
      "/Users/Sophie/anaconda/lib/python3.5/site-packages/numpy/core/numeric.py:190: VisibleDeprecationWarning: using a non-integer number instead of an integer will result in an error in the future\n",
      "  a = empty(shape, dtype, order)\n"
     ]
    },
    {
     "name": "stdout",
     "output_type": "stream",
     "text": [
      "Rounds: 0 Accuracy: 0.960000\n",
      "Rounds: 1 Accuracy: 0.960000\n",
      "Rounds: 2 Accuracy: 0.900000\n",
      "Rounds: 3 Accuracy: 0.940000\n",
      "Rounds: 4 Accuracy: 0.940000\n",
      "Rounds: 5 Accuracy: 0.900000\n",
      "Rounds: 6 Accuracy: 0.940000\n",
      "Rounds: 7 Accuracy: 0.960000\n",
      "Rounds: 8 Accuracy: 0.960000\n",
      "Rounds: 9 Accuracy: 0.940000\n",
      "Perceptron Simple Dataset Accuracy train: 0.940000 test: 0.900000\n",
      "[[-1.69314718 -1.69314718]\n",
      " [-1.          1.        ]\n",
      " [-1.          1.        ]]\n",
      "Rounds: 0 Accuracy: 0.870000\n",
      "Rounds: 1 Accuracy: 0.940000\n",
      "Rounds: 2 Accuracy: 0.979375\n",
      "Rounds: 3 Accuracy: 0.965625\n",
      "Rounds: 4 Accuracy: 0.989375\n",
      "Rounds: 5 Accuracy: 0.996250\n",
      "Rounds: 6 Accuracy: 0.995000\n",
      "Rounds: 7 Accuracy: 0.999375\n",
      "Rounds: 8 Accuracy: 0.996250\n",
      "Rounds: 9 Accuracy: 0.998125\n",
      "Perceptron Amazon Dataset Accuracy train: 0.998750 test: 0.825000\n"
     ]
    },
    {
     "data": {
      "image/png": "[encoded data removed]",
      "text/plain": [
       "<matplotlib.figure.Figure at 0x10c422160>"
      ]
     },
     "metadata": {},
     "output_type": "display_data"
    }
   ],
   "source": [
    "import matplotlib.pyplot as plt\n",
    "%matplotlib inline\n",
    "import lxmls.readers.simple_data_set as sds\n",
    "sd = sds.SimpleDataSet(nr_examples=100, g1 = [[-1,-1],1], g2 = [[1,1],1], balance=0.5, split=[0.5,0,0.5])\n",
    "\n",
    "import lxmls.classifiers.perceptron as percc\n",
    "perc = percc.Perceptron()\n",
    "params_perc_sd = perc.train(sd.train_X,sd.train_y)\n",
    "y_pred_train = perc.test(sd.train_X,params_perc_sd)\n",
    "acc_train = perc.evaluate(sd.train_y, y_pred_train)\n",
    "y_pred_test = perc.test(sd.test_X,params_perc_sd)\n",
    "acc_test = perc.evaluate(sd.test_y, y_pred_test)\n",
    "print (\"Perceptron Simple Dataset Accuracy train: %f test: %f\"%(acc_train,acc_test))\n",
    "fig,axis = sd.plot_data()\n",
    "fig,axis = sd.add_line(fig,axis,params_perc_sd,\"Perceptron\",\"blue\")\n",
    "\n",
    "params_perc_amazon = perc.train(scr.train_X, scr.train_y)\n",
    "y_pred_train_amazon = perc.test(scr.train_X,params_perc_amazon)\n",
    "acc_train_amazon = perc.evaluate(scr.train_y, y_pred_train_amazon)\n",
    "y_pred_test_amazon = perc.test(scr.test_X,params_perc_amazon)\n",
    "acc_test_amazon = perc.evaluate(scr.test_y, y_pred_test_amazon)\n",
    "print (\"Perceptron Amazon Dataset Accuracy train: %f test: %f\"%(acc_train_amazon,acc_test_amazon))"
   ]
  },
  {
   "cell_type": "code",
   "execution_count": 4,
   "metadata": {
    "collapsed": false
   },
   "outputs": [
    {
     "name": "stdout",
     "output_type": "stream",
     "text": [
      "Rounds: 0 Accuracy: 0.960000\n",
      "Rounds: 1 Accuracy: 0.960000\n",
      "Rounds: 2 Accuracy: 0.960000\n",
      "Rounds: 3 Accuracy: 0.960000\n",
      "Rounds: 4 Accuracy: 0.960000\n",
      "Rounds: 5 Accuracy: 0.960000\n",
      "Rounds: 6 Accuracy: 0.960000\n",
      "Rounds: 7 Accuracy: 0.960000\n",
      "Rounds: 8 Accuracy: 0.960000\n",
      "Rounds: 9 Accuracy: 0.960000\n",
      "Mira Simple Dataset Accuracy train: 0.960000 test: 0.900000\n",
      "Rounds: 0 Accuracy: 0.500000\n",
      "Rounds: 1 Accuracy: 0.500000\n",
      "Rounds: 2 Accuracy: 0.500000\n",
      "Rounds: 3 Accuracy: 0.500000\n",
      "Rounds: 4 Accuracy: 0.500000\n",
      "Rounds: 5 Accuracy: 0.500000\n",
      "Rounds: 6 Accuracy: 0.500000\n",
      "Rounds: 7 Accuracy: 0.500000\n",
      "Rounds: 8 Accuracy: 0.500000\n",
      "Rounds: 9 Accuracy: 0.500000\n",
      "Mira Amazon Sentiment Accuracy train: 0.500000 test: 0.500000\n"
     ]
    }
   ],
   "source": [
    "import lxmls.classifiers.mira as mirac\n",
    "mira = mirac.Mira()\n",
    "mira.regularizer = 1.0 # This is lambda\n",
    "params_mira_sd = mira.train(sd.train_X,sd.train_y)\n",
    "y_pred_train = mira.test(sd.train_X,params_mira_sd)\n",
    "acc_train = mira.evaluate(sd.train_y, y_pred_train)\n",
    "y_pred_test = mira.test(sd.test_X,params_mira_sd)\n",
    "acc_test = mira.evaluate(sd.test_y, y_pred_test)\n",
    "print (\"Mira Simple Dataset Accuracy train: %f test: %f\"%(acc_train,acc_test))\n",
    "fig,axis = sd.add_line(fig,axis,params_mira_sd,\"Mira\",\"green\")\n",
    "params_mira_sc = mira.train(scr.train_X,scr.train_y)\n",
    "y_pred_train = mira.test(scr.train_X,params_mira_sc)\n",
    "acc_train = mira.evaluate(scr.train_y, y_pred_train)\n",
    "y_pred_test = mira.test(scr.test_X,params_mira_sc)\n",
    "acc_test = mira.evaluate(scr.test_y, y_pred_test)\n",
    "print (\"Mira Amazon Sentiment Accuracy train: %f test: %f\"%(acc_train,acc_test))"
   ]
  },
  {
   "cell_type": "code",
   "execution_count": 5,
   "metadata": {
    "collapsed": false
   },
   "outputs": [
    {
     "name": "stdout",
     "output_type": "stream",
     "text": [
      "Objective = 0.6931471805599453\n",
      "Objective = 0.7123455609927831\n",
      "Objective = 0.4730172493253413\n",
      "Objective = 0.4729346859764366\n",
      "Objective = 0.47292343569598444\n",
      "Objective = 0.47292342095925893\n",
      "Objective = 0.4729234207705175\n",
      "Max-Ent batch Simple Dataset Accuracy train: 0.940000 test: 0.880000\n",
      "Objective = 0.6931471805599452\n",
      "Objective = 2.3569935918850353\n",
      "Objective = 0.6844462783477061\n",
      "Objective = 0.6624653397269714\n",
      "Objective = 0.6369050882978824\n",
      "Objective = 0.6279555562071627\n",
      "Objective = 0.624285426609883\n",
      "Objective = 0.6226210165612387\n",
      "Objective = 0.6225118183216435\n",
      "Objective = 0.6224325438719654\n",
      "Objective = 0.6224098226931886\n",
      "Objective = 0.6224035006188003\n",
      "Objective = 0.622402924504082\n",
      "Objective = 0.62240279613179\n",
      "Objective = 0.6224027875941003\n",
      "Objective = 0.6224027809592892\n",
      "Objective = 0.6224027960617742\n",
      "Objective = 0.6224027798482331\n",
      "Max-Ent Batch Amazon Sentiment Accuracy train: 0.858125 test: 0.790000\n"
     ]
    }
   ],
   "source": [
    "import lxmls.classifiers.max_ent_batch as mebc\n",
    "me_lbfgs = mebc.MaxEntBatch()\n",
    "me_lbfgs.regularizer = 1.0\n",
    "params_meb_sd = me_lbfgs.train(sd.train_X,sd.train_y)\n",
    "y_pred_train = me_lbfgs.test(sd.train_X,params_meb_sd)\n",
    "acc_train = me_lbfgs.evaluate(sd.train_y, y_pred_train)\n",
    "y_pred_test = me_lbfgs.test(sd.test_X,params_meb_sd)\n",
    "acc_test = me_lbfgs.evaluate(sd.test_y, y_pred_test)\n",
    "print (\"Max-Ent batch Simple Dataset Accuracy train: %f test: %f\"%(acc_train,acc_test))\n",
    "fig,axis = sd.add_line(fig,axis,params_meb_sd,\"Max-Ent-Batch\",\"orange\")\n",
    "params_meb_sc = me_lbfgs.train(scr.train_X,scr.train_y)\n",
    "y_pred_train = me_lbfgs.test(scr.train_X,params_meb_sc)\n",
    "acc_train = me_lbfgs.evaluate(scr.train_y, y_pred_train)\n",
    "y_pred_test = me_lbfgs.test(scr.test_X,params_meb_sc)\n",
    "acc_test = me_lbfgs.evaluate(scr.test_y, y_pred_test)\n",
    "print (\"Max-Ent Batch Amazon Sentiment Accuracy train: %f test: %f\"%(acc_train,acc_test))"
   ]
  },
  {
   "cell_type": "code",
   "execution_count": 6,
   "metadata": {
    "collapsed": false
   },
   "outputs": [
    {
     "name": "stdout",
     "output_type": "stream",
     "text": [
      "Epochs: 0 Objective: 1.169629\n",
      "Epochs: 0 Accuracy: 0.821875\n",
      "Epochs: 1 Objective: 0.646076\n",
      "Epochs: 1 Accuracy: 0.850000\n",
      "Epochs: 2 Objective: 0.635095\n",
      "Epochs: 2 Accuracy: 0.861250\n",
      "Epochs: 3 Objective: 0.631180\n",
      "Epochs: 3 Accuracy: 0.860000\n",
      "Epochs: 4 Objective: 0.629128\n",
      "Epochs: 4 Accuracy: 0.861875\n",
      "Epochs: 5 Objective: 0.627862\n",
      "Epochs: 5 Accuracy: 0.861250\n",
      "Epochs: 6 Objective: 0.627001\n",
      "Epochs: 6 Accuracy: 0.861250\n",
      "Epochs: 7 Objective: 0.626376\n",
      "Epochs: 7 Accuracy: 0.860625\n",
      "Epochs: 8 Objective: 0.625902\n",
      "Epochs: 8 Accuracy: 0.860625\n",
      "Epochs: 9 Objective: 0.625529\n",
      "Epochs: 9 Accuracy: 0.860625\n",
      "Max-Ent Online Amazon Sentiment Accuracy train: 0.860625 test: 0.787500\n"
     ]
    }
   ],
   "source": [
    "import lxmls.classifiers.max_ent_online as meoc\n",
    "me_sgd = meoc.MaxEntOnline()\n",
    "me_sgd.regularizer = 1.0\n",
    "params_meo_sc = me_sgd.train(scr.train_X,scr.train_y)\n",
    "y_pred_train = me_sgd.test(scr.train_X,params_meo_sc)\n",
    "acc_train = me_sgd.evaluate(scr.train_y, y_pred_train)\n",
    "y_pred_test = me_sgd.test(scr.test_X,params_meo_sc)\n",
    "acc_test = me_sgd.evaluate(scr.test_y, y_pred_test)\n",
    "print (\"Max-Ent Online Amazon Sentiment Accuracy train: %f test: %f\"%(acc_train,acc_test))"
   ]
  },
  {
   "cell_type": "code",
   "execution_count": 7,
   "metadata": {
    "collapsed": false
   },
   "outputs": [
    {
     "name": "stdout",
     "output_type": "stream",
     "text": [
      "Epochs: 0 Objective: 0.539236\n",
      "Epochs: 0 Accuracy: 0.940000\n",
      "Epochs: 1 Objective: 0.402144\n",
      "Epochs: 1 Accuracy: 0.940000\n",
      "Epochs: 2 Objective: 0.393746\n",
      "Epochs: 2 Accuracy: 0.940000\n",
      "Epochs: 3 Objective: 0.390215\n",
      "Epochs: 3 Accuracy: 0.940000\n",
      "Epochs: 4 Objective: 0.388270\n",
      "Epochs: 4 Accuracy: 0.940000\n",
      "Epochs: 5 Objective: 0.386933\n",
      "Epochs: 5 Accuracy: 0.940000\n",
      "Epochs: 6 Objective: 0.386232\n",
      "Epochs: 6 Accuracy: 0.940000\n",
      "Epochs: 7 Objective: 0.385594\n",
      "Epochs: 7 Accuracy: 0.940000\n",
      "Epochs: 8 Objective: 0.385107\n",
      "Epochs: 8 Accuracy: 0.940000\n",
      "Epochs: 9 Objective: 0.384723\n",
      "Epochs: 9 Accuracy: 0.940000\n",
      "SVM Online Simple Dataset Accuracy train: 0.940000 test: 0.900000\n",
      "Epochs: 0 Objective: 1.351046\n",
      "Epochs: 0 Accuracy: 0.860625\n",
      "Epochs: 1 Objective: 0.806764\n",
      "Epochs: 1 Accuracy: 0.875000\n",
      "Epochs: 2 Objective: 0.766238\n",
      "Epochs: 2 Accuracy: 0.878750\n",
      "Epochs: 3 Objective: 0.749538\n",
      "Epochs: 3 Accuracy: 0.880000\n",
      "Epochs: 4 Objective: 0.744177\n",
      "Epochs: 4 Accuracy: 0.879375\n",
      "Epochs: 5 Objective: 0.737206\n",
      "Epochs: 5 Accuracy: 0.873125\n",
      "Epochs: 6 Objective: 0.734639\n",
      "Epochs: 6 Accuracy: 0.878750\n",
      "Epochs: 7 Objective: 0.731872\n",
      "Epochs: 7 Accuracy: 0.879375\n",
      "Epochs: 8 Objective: 0.729880\n",
      "Epochs: 8 Accuracy: 0.878750\n",
      "Epochs: 9 Objective: 0.728291\n",
      "Epochs: 9 Accuracy: 0.875000\n",
      "SVM Online Amazon Sentiment Accuracy train: 0.875000 test: 0.792500\n"
     ]
    }
   ],
   "source": [
    "import lxmls.classifiers.svm as svmc\n",
    "svm = svmc.SVM()\n",
    "svm.regularizer = 1.0 # This is lambda\n",
    "params_svm_sd = svm.train(sd.train_X,sd.train_y)\n",
    "y_pred_train = svm.test(sd.train_X,params_svm_sd)\n",
    "acc_train = svm.evaluate(sd.train_y, y_pred_train)\n",
    "y_pred_test = svm.test(sd.test_X,params_svm_sd)\n",
    "acc_test = svm.evaluate(sd.test_y, y_pred_test)\n",
    "print (\"SVM Online Simple Dataset Accuracy train: %f test: %f\"%(acc_train,acc_test))\n",
    "fig,axis = sd.add_line(fig,axis,params_svm_sd,\"SVM\",\"orange\")\n",
    "params_svm_sc = svm.train(scr.train_X,scr.train_y)\n",
    "y_pred_train = svm.test(scr.train_X,params_svm_sc)\n",
    "acc_train = svm.evaluate(scr.train_y, y_pred_train)\n",
    "y_pred_test = svm.test(scr.test_X,params_svm_sc)\n",
    "acc_test = svm.evaluate(scr.test_y, y_pred_test)\n",
    "print (\"SVM Online Amazon Sentiment Accuracy train: %f test: %f\"%(acc_train,acc_test))"
   ]
  }
 ],
 "metadata": {
  "anaconda-cloud": {},
  "kernelspec": {
   "display_name": "Python [Root]",
   "language": "python",
   "name": "Python [Root]"
  },
  "language_info": {
   "codemirror_mode": {
    "name": "ipython",
    "version": 3
   },
   "file_extension": ".py",
   "mimetype": "text/x-python",
   "name": "python",
   "nbconvert_exporter": "python",
   "pygments_lexer": "ipython3",
   "version": "3.5.2"
  }
 },
 "nbformat": 4,
 "nbformat_minor": 0
}
